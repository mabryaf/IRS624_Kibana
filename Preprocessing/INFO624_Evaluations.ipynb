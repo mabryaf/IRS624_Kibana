{
  "nbformat": 4,
  "nbformat_minor": 0,
  "metadata": {
    "kernelspec": {
      "display_name": "Python 3",
      "language": "python",
      "name": "python3"
    },
    "language_info": {
      "codemirror_mode": {
        "name": "ipython",
        "version": 3
      },
      "file_extension": ".py",
      "mimetype": "text/x-python",
      "name": "python",
      "nbconvert_exporter": "python",
      "pygments_lexer": "ipython3",
      "version": "3.7.6"
    },
    "colab": {
      "name": "INFO624-Evaluations.ipynb",
      "provenance": [],
      "collapsed_sections": [
        "fMfGuMocMLM-",
        "HYyPyPUlPDvg",
        "Bn8ZzJ6zS08Q",
        "3aMm8bmlUqyE",
        "PvrTbqM9UwPL",
        "WBz9jYIJU8at",
        "nVGd7CtqVCfk",
        "monDYmd3VKW9",
        "Qzi66VLYVfIp"
      ]
    }
  },
  "cells": [
    {
      "cell_type": "markdown",
      "metadata": {
        "id": "EfwfDqzBL7OT",
        "colab_type": "text"
      },
      "source": [
        "# Functions"
      ]
    },
    {
      "cell_type": "code",
      "metadata": {
        "id": "Ey4MzeyXmv1b",
        "colab_type": "code",
        "colab": {}
      },
      "source": [
        "import numpy as np"
      ],
      "execution_count": 3,
      "outputs": []
    },
    {
      "cell_type": "code",
      "metadata": {
        "id": "AfDS-GTemv1f",
        "colab_type": "code",
        "colab": {}
      },
      "source": [
        "def bool_DCG(judgements):\n",
        "    dcgsum = judgements[0]\n",
        "    for i in range(1,len(judgements)):\n",
        "        dcgsum += judgements[i]/np.log2(i+2)     \n",
        "    return dcgsum"
      ],
      "execution_count": 6,
      "outputs": []
    },
    {
      "cell_type": "code",
      "metadata": {
        "id": "sCIyBI95mv1k",
        "colab_type": "code",
        "colab": {}
      },
      "source": [
        "def bool_nDCG(judgements,standard):\n",
        "    dcgsum = judgements[0]\n",
        "    stdsum = standard[0]\n",
        "    for i in range(1,len(judgements)):\n",
        "        dcgsum += judgements[i]/np.log2(i+2) \n",
        "        stdsum += standard[i]/np.log2(i+2)\n",
        "    return dcgsum/stdsum"
      ],
      "execution_count": 8,
      "outputs": []
    },
    {
      "cell_type": "markdown",
      "metadata": {
        "id": "WpGl2imkL-7n",
        "colab_type": "text"
      },
      "source": [
        "# Tests"
      ]
    },
    {
      "cell_type": "markdown",
      "metadata": {
        "id": "fMfGuMocMLM-",
        "colab_type": "text"
      },
      "source": [
        "## \"Avengers\" \n",
        "Here, we expect vague results but the inention is to show the top recent avengers films. The result show all the expected recent MCU avenger films, but the top result was the old avenger movie from 1998. The rankings werent what we expected so there was a difference, thus, the less than 1 nDCG score. \n",
        "\n"
      ]
    },
    {
      "cell_type": "code",
      "metadata": {
        "id": "3-0KLdpvMALy",
        "colab_type": "code",
        "colab": {
          "base_uri": "https://localhost:8080/",
          "height": 51
        },
        "outputId": "21feead4-99d7-4e5c-9c2a-eb1b92cf63d2"
      },
      "source": [
        "# 0 for irrelevant\n",
        "# 1 for somewhat relevant\n",
        "# 2 for relevant\n",
        "judgement = [1,2,2,2,2,1,0,0,0,0]\n",
        "standard = [2,2,2,2,1,1,0,0,0,0]\n",
        "print(\"| DCG | nDCG | Recall |\")\n",
        "print(\"|\",bool_DCG(judgement), \"|\",bool_nDCG(judgement,standard),\"|\",str(0.6),\"|\")\n"
      ],
      "execution_count": 46,
      "outputs": [
        {
          "output_type": "stream",
          "text": [
            "| DCG | nDCG | Recall |\n",
            "| 5.2531254248668064 | 0.8954792535685231 | 0.6 |\n"
          ],
          "name": "stdout"
        }
      ]
    },
    {
      "cell_type": "markdown",
      "metadata": {
        "id": "HYyPyPUlPDvg",
        "colab_type": "text"
      },
      "source": [
        "## \"Avengers Age of Ultron\"\n",
        "Here we are expecting 1 title to be on top because the query is very specific. Since we're only expecting 1 and it returned it as top results, recall is perfect.\n",
        "\n"
      ]
    },
    {
      "cell_type": "code",
      "metadata": {
        "id": "rxUhEcIsPHKc",
        "colab_type": "code",
        "colab": {
          "base_uri": "https://localhost:8080/",
          "height": 51
        },
        "outputId": "0d74b959-de13-4e57-e3ad-b0cc2c4a1c5e"
      },
      "source": [
        "\n",
        "# 0 for irrelevant\n",
        "# 1 for somewhat relevant\n",
        "# 2 for relevant\n",
        "judgement = [2]\n",
        "standard = [2]\n",
        "print(\"| DCG | nDCG | Recall |\")\n",
        "print(\"|\",bool_DCG(judgement), \"|\",bool_nDCG(judgement,standard),\"|\",str(1),\"|\")"
      ],
      "execution_count": 53,
      "outputs": [
        {
          "output_type": "stream",
          "text": [
            "| DCG | nDCG | Recall |\n",
            "| 2 | 1.0 | 1 |\n"
          ],
          "name": "stdout"
        }
      ]
    },
    {
      "cell_type": "markdown",
      "metadata": {
        "id": "Bn8ZzJ6zS08Q",
        "colab_type": "text"
      },
      "source": [
        "## \"Avengers\" - filtered (Year 2000-2020)\n",
        "Here we are expecting the top results to be the MCU Avengers films from 2000-2020.The results show these films in the top 4, therefore the recall is 1, nDCG is 1 aswell\n"
      ]
    },
    {
      "cell_type": "code",
      "metadata": {
        "id": "dZISNWpeSN5o",
        "colab_type": "code",
        "colab": {
          "base_uri": "https://localhost:8080/",
          "height": 51
        },
        "outputId": "13c99226-df4e-4541-8c5a-d9b37b79c354"
      },
      "source": [
        "# 0 for irrelevant\n",
        "# 1 for somewhat relevant\n",
        "# 2 for relevant\n",
        "judgement = [2,2,2,2]\n",
        "standard = [2,2,2,2]\n",
        "print(\"| DCG | nDCG | Recall |\")\n",
        "print(\"|\",bool_DCG(judgement), \"|\",bool_nDCG(judgement,standard),\"|\",str(1),\"|\")"
      ],
      "execution_count": 55,
      "outputs": [
        {
          "output_type": "stream",
          "text": [
            "| DCG | nDCG | Recall |\n",
            "| 5.123212623289701 | 1.0 | 1 |\n"
          ],
          "name": "stdout"
        }
      ]
    },
    {
      "cell_type": "markdown",
      "metadata": {
        "id": "3aMm8bmlUqyE",
        "colab_type": "text"
      },
      "source": [
        "## \"Michael\"\n",
        "For this scenario, as a user, i want to look for michael bay films. but i get lazy and just put 'michael'.\n",
        "\n",
        "Since the algorithm prioritizes searching for titles first, the titles that include 'michael' gets returned first. We get bed scored for this search\n",
        "\n",
        "nDCG returns 1 because we still consider the results somewhat relevant and we dont care about the rank. but recall is 0 because we don't have what we're looking for"
      ]
    },
    {
      "cell_type": "code",
      "metadata": {
        "id": "T0cJHp1LUte2",
        "colab_type": "code",
        "colab": {
          "base_uri": "https://localhost:8080/",
          "height": 51
        },
        "outputId": "d11eaf60-c7be-4aa9-8152-bc2c64913249"
      },
      "source": [
        "# 0 for irrelevant\n",
        "# 1 for somewhat relevant\n",
        "# 2 for relevant\n",
        "judgement = [1,1,1,1]\n",
        "standard = [1,1,1,1]\n",
        "print(\"| DCG | nDCG | Recall |\")\n",
        "print(\"|\",bool_DCG(judgement), \"|\",bool_nDCG(judgement,standard),\"|\",str(0),\"|\")"
      ],
      "execution_count": 56,
      "outputs": [
        {
          "output_type": "stream",
          "text": [
            "| DCG | nDCG | Recall |\n",
            "| 2.5616063116448506 | 1.0 | 0 |\n"
          ],
          "name": "stdout"
        }
      ]
    },
    {
      "cell_type": "markdown",
      "metadata": {
        "id": "PvrTbqM9UwPL",
        "colab_type": "text"
      },
      "source": [
        "## \"Michael Bay\" filter - Action\n",
        "Now we used filter and specific search terms. The result was better. we have 7/10 relevant results. in terms of ranking, we dont have the top results on top 1, so we have less than 1 nDCG"
      ]
    },
    {
      "cell_type": "code",
      "metadata": {
        "id": "LDTV_Dc8U1Fk",
        "colab_type": "code",
        "colab": {
          "base_uri": "https://localhost:8080/",
          "height": 51
        },
        "outputId": "a33235ab-840f-4196-b26f-bf9c8a8d4b84"
      },
      "source": [
        "# 0 for irrelevant\n",
        "# 1 for somewhat relevant\n",
        "# 2 for relevant\n",
        "judgement = [0,2,2,2,0,2,2,2,2,0]\n",
        "standard = [2,2,2,2,2,2,2,0,0,0]\n",
        "print(\"| DCG | nDCG | Recall |\")\n",
        "print(\"|\",bool_DCG(judgement), \"|\",bool_nDCG(judgement,standard),\"|\",str(0.7),\"|\")"
      ],
      "execution_count": 57,
      "outputs": [
        {
          "output_type": "stream",
          "text": [
            "| DCG | nDCG | Recall |\n",
            "| 5.735283409071832 | 0.788246835854919 | 0.7 |\n"
          ],
          "name": "stdout"
        }
      ]
    },
    {
      "cell_type": "markdown",
      "metadata": {
        "id": "WBz9jYIJU8at",
        "colab_type": "text"
      },
      "source": [
        "## \"Anthony Hopkins\"\n",
        "Now the intention is to use actor name to search for films while adding horror filter. as a user, i expect top results to have Horror films that have Anthony Hopkins in it. \n",
        "\n",
        "This time, the top 2 results featured Anthony hopkins as director and actor. But the rest of the results showed \"anthony\" in the title. This has a perfect nDCG score since the ranking is correct but the recall is bad"
      ]
    },
    {
      "cell_type": "code",
      "metadata": {
        "id": "uZFGHhjSVEMq",
        "colab_type": "code",
        "colab": {
          "base_uri": "https://localhost:8080/",
          "height": 51
        },
        "outputId": "1817b786-9270-4274-ad64-1070a7314d95"
      },
      "source": [
        "# 0 for irrelevant\n",
        "# 1 for somewhat relevant\n",
        "# 2 for relevant\n",
        "judgement = [2,2,0,0,0,0,0,0,0,0,0]\n",
        "standard = [2,2,0,0,0,0,0,0,0,0,0]\n",
        "print(\"| DCG | nDCG | Recall |\")\n",
        "print(\"|\",bool_DCG(judgement), \"|\",bool_nDCG(judgement,standard),\"|\",str(0.2),\"|\")"
      ],
      "execution_count": 58,
      "outputs": [
        {
          "output_type": "stream",
          "text": [
            "| DCG | nDCG | Recall |\n",
            "| 3.261859507142915 | 1.0 | 0.2 |\n"
          ],
          "name": "stdout"
        }
      ]
    },
    {
      "cell_type": "markdown",
      "metadata": {
        "id": "nVGd7CtqVCfk",
        "colab_type": "text"
      },
      "source": [
        "## \"French Comedy\" \n",
        "The intention to this query is to search for french movies that are comedy. This result gets films that have french in the title, but not necessarily french in language. So we have some results thet are irrelevant for our wants. recall is not perfect. "
      ]
    },
    {
      "cell_type": "code",
      "metadata": {
        "id": "z_fbptUXVLFq",
        "colab_type": "code",
        "colab": {
          "base_uri": "https://localhost:8080/",
          "height": 51
        },
        "outputId": "082903c6-92e7-46a1-87c3-6127eed12b9a"
      },
      "source": [
        "# 0 for irrelevant\n",
        "# 1 for somewhat relevant\n",
        "# 2 for relevant\n",
        "judgement = [2,1,2,0,0,0,1,0,0,1]\n",
        "standard = [2,2,1,1,1,0,0,0,0,0]\n",
        "print(\"| DCG | nDCG | Recall |\")\n",
        "print(\"|\",bool_DCG(judgement), \"|\",bool_nDCG(judgement,standard),\"|\",str(1),\"|\")"
      ],
      "execution_count": 61,
      "outputs": [
        {
          "output_type": "stream",
          "text": [
            "| DCG | nDCG | Recall |\n",
            "| 4.253327913222679 | 0.9287981500785571 | 1 |\n"
          ],
          "name": "stdout"
        }
      ]
    },
    {
      "cell_type": "markdown",
      "metadata": {
        "id": "monDYmd3VKW9",
        "colab_type": "text"
      },
      "source": [
        "## \"Surprise Me\" - filter French/comedy\n",
        "For this, it seems like if a user is looking for some general recommendation, it would be better to use the filter option and \"Surprise me\" button. Since the filter 'french' and 'comedy' is used, almost all results would be relevant. Rank would be irrelevant for this one since the system uses random multipliers for the score of each result"
      ]
    },
    {
      "cell_type": "code",
      "metadata": {
        "id": "fTLjy-e2VOtf",
        "colab_type": "code",
        "colab": {
          "base_uri": "https://localhost:8080/",
          "height": 51
        },
        "outputId": "1f3aaeda-969c-44e0-86ca-f09226899cf9"
      },
      "source": [
        "# 0 for irrelevant\n",
        "# 1 for somewhat relevant\n",
        "# 2 for relevant\n",
        "judgement = [2,2,2,2,2,2,2,2,2,2]\n",
        "standard = [2,2,2,2,2,2,2,2,2,2]\n",
        "print(\"| DCG | nDCG | Recall |\")\n",
        "print(\"|\",bool_DCG(judgement), \"|\",bool_nDCG(judgement,standard),\"|\",str(1),\"|\")"
      ],
      "execution_count": 60,
      "outputs": [
        {
          "output_type": "stream",
          "text": [
            "| DCG | nDCG | Recall |\n",
            "| 9.087118676176692 | 1.0 | 1 |\n"
          ],
          "name": "stdout"
        }
      ]
    },
    {
      "cell_type": "markdown",
      "metadata": {
        "id": "Qzi66VLYVfIp",
        "colab_type": "text"
      },
      "source": [
        "## \"Surprise Me\" filter - pre 2000/ - Western - English\n",
        "the user intention for this one is to look for films pre-2000 that are western and in english. The Surprise me results to random films which follow the filter applied. The rank is irrelevant thus, we get a perfect nDCG score. Since these are recommendations, recall is perfect as all is relevant"
      ]
    },
    {
      "cell_type": "code",
      "metadata": {
        "id": "YvzV0D-Bb_7x",
        "colab_type": "code",
        "colab": {
          "base_uri": "https://localhost:8080/",
          "height": 51
        },
        "outputId": "0a3c7aaa-3ef6-45df-9bc3-475dbae4eac7"
      },
      "source": [
        "# 0 for irrelevant\n",
        "# 1 for somewhat relevant\n",
        "# 2 for relevant\n",
        "judgement = [2,2,2,2,2,2,2,2,2,2]\n",
        "standard = [2,2,2,2,2,2,2,2,2,2]\n",
        "print(\"| DCG | nDCG | Recall |\")\n",
        "print(\"|\",bool_DCG(judgement), \"|\",bool_nDCG(judgement,standard),\"|\",str(1),\"|\")"
      ],
      "execution_count": 62,
      "outputs": [
        {
          "output_type": "stream",
          "text": [
            "| DCG | nDCG | Recall |\n",
            "| 9.087118676176692 | 1.0 | 1 |\n"
          ],
          "name": "stdout"
        }
      ]
    },
    {
      "cell_type": "markdown",
      "metadata": {
        "id": "W8siDc7sMEU7",
        "colab_type": "text"
      },
      "source": [
        "# Overall Results\n"
      ]
    },
    {
      "cell_type": "markdown",
      "metadata": {
        "id": "GhhZUtT7zoKp",
        "colab_type": "text"
      },
      "source": [
        "| Query | Type | DCG | nDCG | Recall | \n",
        "|-------|------|-----|------|--------|\n",
        "|  \"Avengers\"     |  Title - generic    | 5.2531254248668064 | 0.8954792535685231 | 0.6 |\n",
        "|   \"Avengers Age of Ultron\"    |  Title - specific    | 2 | 1.0 | 1 |\n",
        "|     \"Avengers\" - 2018 |   Title - filtered   |   5.123212623289701 | 1.0 | 1 |\n",
        "|     \"Michael\"  |   Director - generic   | 2.5616063116448506 | 1.0 | 0 |\n",
        "|     \"Michael Bay\" - action  |   Director - filtered   |  5.735283409071832 | 0.788246835854919 | 0.7 |\n",
        "|     \"Anthony Hopkins\"  |   Actor - specific   | 3.261859507142915 | 1.0 | 0.2 ||\n",
        "|     \"French Comedy\"  |   Genre - specific   | 4.253327913222679 | 0.9287981500785571 | 1 |\n",
        "|     \"Surprise Me!\" - French - Comedy |   filtered   |9.087118676176692 | 1.0 | 1 |\n",
        "|     \"Surprise Me!\" - pre-2000 - Western - American |   filtered   |   9.087118676176692 | 1.0 | 1 |\n",
        "\n",
        "From these overall results, we can generalize that if a user wants to search for a specific movie, it's best practice to type the whole movie title to retrieve the specific movie as in the example of 'Avengers Age of Ultron'. Generally, more spicific search queries result to higher recall as more relevant results are retrieved.\n",
        "If a user wishes to get recommendations with filters applied, hitting \"Surprise Me\" button is a fun was to get recommendations. Precision is not calculated because it needs false negatives. it would be impossible to know which movies were not retrieved since there are millions of titles in the database. Recall is restricted to the top 10 results. In this application. Recall is the amount of relevant movies in the top 10. But for some applications where we expect a certain amount (ex. 1 specific movie title), recall is 1, as long as the movie is shown in the top spot. \n",
        "\n"
      ]
    }
  ]
}